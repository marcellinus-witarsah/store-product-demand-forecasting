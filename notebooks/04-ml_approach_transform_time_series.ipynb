{
 "cells": [
  {
   "cell_type": "code",
   "execution_count": 2,
   "metadata": {},
   "outputs": [],
   "source": [
    "%reload_ext autoreload\n",
    "%autoreload 2\n",
    "\n",
    "import pandas as pd\n",
    "import dotenv\n",
    "import os\n",
    "import sys\n",
    "import numpy as np\n",
    "from tqdm import tqdm"
   ]
  },
  {
   "cell_type": "code",
   "execution_count": 3,
   "metadata": {},
   "outputs": [],
   "source": [
    "# add root project directory\n",
    "sys.path.append(\"../\")\n",
    "# get environment path file\n",
    "dotenv_path = dotenv.find_dotenv()\n",
    "# load environment variables\n",
    "dotenv.load_dotenv(dotenv_path)\n",
    "\n",
    "CALENDAR_FILE_PATH = os.environ.get(\"CALENDAR_FILE_PATH\")\n",
    "SALES_TRAIN_EVALUATION_FILE_PATH = os.environ.get(\"SALES_TRAIN_EVALUATION_FILE_PATH\")\n",
    "SALES_TRAIN_VALIDATION_FILE_PATH = os.environ.get(\"SALES_TRAIN_VALIDATION_FILE_PATH\")\n",
    "SAMPLE_SUBMISSION_FILE_PATH = os.environ.get(\"SAMPLE_SUBMISSION_FILE_PATH\")\n",
    "SELL_PRICES_FILE_PATH = os.environ.get(\"SELL_PRICES_FILE_PATH\")"
   ]
  },
  {
   "cell_type": "code",
   "execution_count": 4,
   "metadata": {},
   "outputs": [],
   "source": [
    "# load dataset\n",
    "cal_df = pd.read_csv(CALENDAR_FILE_PATH)\n",
    "sell_price_df = pd.read_csv(SELL_PRICES_FILE_PATH)\n",
    "df = pd.read_csv(SALES_TRAIN_VALIDATION_FILE_PATH)"
   ]
  },
  {
   "cell_type": "markdown",
   "metadata": {},
   "source": [
    "# Change Data Type\n",
    "Change the data type that requires lower memory usage. float64 and int64 is a lot of memory."
   ]
  },
  {
   "cell_type": "code",
   "execution_count": 5,
   "metadata": {},
   "outputs": [
    {
     "name": "stdout",
     "output_type": "stream",
     "text": [
      "<class 'pandas.core.frame.DataFrame'>\n",
      "RangeIndex: 1969 entries, 0 to 1968\n",
      "Data columns (total 14 columns):\n",
      " #   Column        Non-Null Count  Dtype \n",
      "---  ------        --------------  ----- \n",
      " 0   date          1969 non-null   object\n",
      " 1   wm_yr_wk      1969 non-null   int64 \n",
      " 2   weekday       1969 non-null   object\n",
      " 3   wday          1969 non-null   int64 \n",
      " 4   month         1969 non-null   int64 \n",
      " 5   year          1969 non-null   int64 \n",
      " 6   d             1969 non-null   object\n",
      " 7   event_name_1  162 non-null    object\n",
      " 8   event_type_1  162 non-null    object\n",
      " 9   event_name_2  5 non-null      object\n",
      " 10  event_type_2  5 non-null      object\n",
      " 11  snap_CA       1969 non-null   int64 \n",
      " 12  snap_TX       1969 non-null   int64 \n",
      " 13  snap_WI       1969 non-null   int64 \n",
      "dtypes: int64(7), object(7)\n",
      "memory usage: 215.5+ KB\n"
     ]
    },
    {
     "data": {
      "text/plain": [
       "None"
      ]
     },
     "metadata": {},
     "output_type": "display_data"
    },
    {
     "name": "stdout",
     "output_type": "stream",
     "text": [
      "<class 'pandas.core.frame.DataFrame'>\n",
      "RangeIndex: 6841121 entries, 0 to 6841120\n",
      "Data columns (total 4 columns):\n",
      " #   Column      Dtype  \n",
      "---  ------      -----  \n",
      " 0   store_id    object \n",
      " 1   item_id     object \n",
      " 2   wm_yr_wk    int64  \n",
      " 3   sell_price  float64\n",
      "dtypes: float64(1), int64(1), object(2)\n",
      "memory usage: 208.8+ MB\n"
     ]
    },
    {
     "data": {
      "text/plain": [
       "None"
      ]
     },
     "metadata": {},
     "output_type": "display_data"
    },
    {
     "name": "stdout",
     "output_type": "stream",
     "text": [
      "<class 'pandas.core.frame.DataFrame'>\n",
      "RangeIndex: 30490 entries, 0 to 30489\n",
      "Columns: 1919 entries, id to d_1913\n",
      "dtypes: int64(1913), object(6)\n",
      "memory usage: 446.4+ MB\n"
     ]
    },
    {
     "data": {
      "text/plain": [
       "None"
      ]
     },
     "metadata": {},
     "output_type": "display_data"
    }
   ],
   "source": [
    "display(cal_df.info())\n",
    "display(sell_price_df.info())\n",
    "display(df.info())"
   ]
  },
  {
   "cell_type": "code",
   "execution_count": 6,
   "metadata": {},
   "outputs": [
    {
     "data": {
      "text/plain": [
       "finfo(resolution=0.001, min=-6.55040e+04, max=6.55040e+04, dtype=float16)"
      ]
     },
     "execution_count": 6,
     "metadata": {},
     "output_type": "execute_result"
    }
   ],
   "source": [
    "np.finfo(np.float16)"
   ]
  },
  {
   "cell_type": "code",
   "execution_count": 7,
   "metadata": {},
   "outputs": [
    {
     "data": {
      "text/plain": [
       "wm_yr_wk    11621\n",
       "wday            7\n",
       "month          12\n",
       "year         2016\n",
       "snap_CA         1\n",
       "snap_TX         1\n",
       "snap_WI         1\n",
       "dtype: int64"
      ]
     },
     "metadata": {},
     "output_type": "display_data"
    },
    {
     "name": "stdout",
     "output_type": "stream",
     "text": [
      "Maximum Value Int= 32767\n",
      "Minimum Value Int= -32768\n",
      "Maximum Value Float= 65500.0\n",
      "Minimum Value Float= -65500.0\n"
     ]
    }
   ],
   "source": [
    "display(cal_df.select_dtypes(include=[int, float]).max(axis=0))\n",
    "print(\"Maximum Value Int=\", np.iinfo(np.int16).max)\n",
    "print(\"Minimum Value Int=\", np.iinfo(np.int16).min)\n",
    "print(\"Maximum Value Float=\", np.finfo(np.float16).max)\n",
    "print(\"Minimum Value Float=\", np.finfo(np.float16).min)"
   ]
  },
  {
   "cell_type": "code",
   "execution_count": 8,
   "metadata": {},
   "outputs": [
    {
     "data": {
      "text/plain": [
       "wm_yr_wk      11621.00\n",
       "sell_price      107.32\n",
       "dtype: float64"
      ]
     },
     "metadata": {},
     "output_type": "display_data"
    },
    {
     "name": "stdout",
     "output_type": "stream",
     "text": [
      "Maximum Value Int= 32767\n",
      "Minimum Value Int= -32768\n",
      "Maximum Value Float= 65500.0\n",
      "Minimum Value Float= -65500.0\n"
     ]
    }
   ],
   "source": [
    "display(sell_price_df.select_dtypes(include=[int, float]).max(axis=0))\n",
    "print(\"Maximum Value Int=\", np.iinfo(np.int16).max)\n",
    "print(\"Minimum Value Int=\", np.iinfo(np.int16).min)\n",
    "print(\"Maximum Value Float=\", np.finfo(np.float16).max)\n",
    "print(\"Minimum Value Float=\", np.finfo(np.float16).min)"
   ]
  },
  {
   "cell_type": "code",
   "execution_count": 9,
   "metadata": {},
   "outputs": [
    {
     "data": {
      "text/plain": [
       "d_1       360\n",
       "d_2       436\n",
       "d_3       207\n",
       "d_4       323\n",
       "d_5       296\n",
       "         ... \n",
       "d_1909     88\n",
       "d_1910     77\n",
       "d_1911    141\n",
       "d_1912    171\n",
       "d_1913    130\n",
       "Length: 1913, dtype: int64"
      ]
     },
     "metadata": {},
     "output_type": "display_data"
    },
    {
     "name": "stdout",
     "output_type": "stream",
     "text": [
      "Maximum Value Int= 32767\n",
      "Minimum Value Int= -32768\n",
      "Maximum Value Float= 65500.0\n",
      "Minimum Value Float= -65500.0\n"
     ]
    }
   ],
   "source": [
    "display(df.select_dtypes(include=[int, float]).max(axis=0))\n",
    "print(\"Maximum Value Int=\", np.iinfo(np.int16).max)\n",
    "print(\"Minimum Value Int=\", np.iinfo(np.int16).min)\n",
    "print(\"Maximum Value Float=\", np.finfo(np.float16).max)\n",
    "print(\"Minimum Value Float=\", np.finfo(np.float16).min)"
   ]
  },
  {
   "cell_type": "code",
   "execution_count": 10,
   "metadata": {},
   "outputs": [],
   "source": [
    "# add more days for the predictions\n",
    "for d in range(1914, 1942):\n",
    "    df['d_'+str(d)] = np.nan"
   ]
  },
  {
   "cell_type": "code",
   "execution_count": 11,
   "metadata": {},
   "outputs": [],
   "source": [
    "# filter to fewer recent dates \n",
    "temp = df.drop(columns=[c for c in df.columns if c.find('d_')==0 and int(c.split('_')[1]) < 1100])"
   ]
  },
  {
   "cell_type": "code",
   "execution_count": 12,
   "metadata": {},
   "outputs": [],
   "source": [
    "temp_df = temp.melt(\n",
    "    id_vars=['id', 'item_id', 'dept_id', 'cat_id', 'store_id', 'state_id'],\n",
    "    value_vars=[c for c in temp.columns if c.find('d_')==0],\n",
    "    var_name = 'day', value_name = 'sales'\n",
    ")\n",
    "del temp"
   ]
  },
  {
   "cell_type": "code",
   "execution_count": 18,
   "metadata": {},
   "outputs": [],
   "source": [
    "df_merged = temp_df.merge(\n",
    "    cal_df.drop(columns=['date', 'wm_yr_wk', 'weekday']), \n",
    "    left_on='day', \n",
    "    right_on='d')\\\n",
    "    .drop(columns=['d'])"
   ]
  },
  {
   "cell_type": "code",
   "execution_count": null,
   "metadata": {},
   "outputs": [],
   "source": []
  }
 ],
 "metadata": {
  "kernelspec": {
   "display_name": "forecasting-tools-darts",
   "language": "python",
   "name": "python3"
  },
  "language_info": {
   "codemirror_mode": {
    "name": "ipython",
    "version": 3
   },
   "file_extension": ".py",
   "mimetype": "text/x-python",
   "name": "python",
   "nbconvert_exporter": "python",
   "pygments_lexer": "ipython3",
   "version": "3.10.13"
  }
 },
 "nbformat": 4,
 "nbformat_minor": 2
}
